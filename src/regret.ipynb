{
 "cells": [
  {
   "cell_type": "code",
   "execution_count": null,
   "metadata": {},
   "outputs": [],
   "source": [
    "import numpy as np\n",
    "import matplotlib.pyplot as plt\n",
    "import seaborn as sns\n",
    "from pathlib import Path\n",
    "from matplotlib.backends.backend_pdf import PdfPages\n",
    "\n",
    "sns.set_style('darkgrid')\n",
    "plt.rcParams['font.size'] = 13\n",
    "\n",
    "\n",
    "def main():\n",
    "    methods = [('random', 'Random', 'tab:green', '--'),\n",
    "               ('pi', 'PI', 'tab:blue', '--'),\n",
    "               ('ei', 'EI', 'tab:orange', '--'),\n",
    "               ('mes', 'MES', 'tab:red', '-'),\n",
    "               ]\n",
    "    figS, axS = plt.subplots()\n",
    "    figI, axI = plt.subplots()\n",
    "    x=np.arange(101)\n",
    "    for method in methods:\n",
    "        files=list(sorted(Path('../image/bo_result/').glob(f'{method[0]}_seed*')))\n",
    "        sr=[]\n",
    "        ir=[]\n",
    "        for file in files:  \n",
    "            sr.append(np.load(file)['sr'])\n",
    "            ir.append(np.load(file)['ir'])\n",
    "        sr=np.array(sr)\n",
    "        m,s=np.mean(sr,axis=0),np.std(sr,axis=0)\n",
    "        err=s/np.sqrt(len(files))\n",
    "        axS.plot(x,m,ls=method[3],label=method[1],c=method[2])\n",
    "        axS.fill_between(x,m+err,m-err,fc=method[2],alpha=0.2)\n",
    "        \n",
    "        ir=np.array(ir)\n",
    "        m,s=np.mean(ir,axis=0),np.std(ir,axis=0)\n",
    "        err=s/np.sqrt(len(files))\n",
    "        axI.plot(x,m,ls=method[3],label=method[1],c=method[2])\n",
    "        axI.fill_between(x,m+err,m-err,fc=method[2],alpha=0.2)\n",
    "        \n",
    "    axS.legend(fontsize=11)\n",
    "    axS.set_xlabel('Number of observations')\n",
    "    axS.set_ylabel('Simple regret')\n",
    "    axS.set_title('2D-SamplePath')\n",
    "    figS.tight_layout()\n",
    "    figS.savefig('./MES_sr.png')\n",
    "    axS.set_yscale('log')\n",
    "    figS.tight_layout()\n",
    "    figS.savefig('./MES_srLog.png')\n",
    "    \n",
    "    axI.legend(fontsize=11)\n",
    "    axI.set_xlabel('Number of observations')\n",
    "    axI.set_ylabel('Inference regret')\n",
    "    axI.set_title('2D-SamplePath')\n",
    "    figI.tight_layout()\n",
    "    figI.savefig('./MES_ir.png')\n",
    "    axI.set_yscale('log')\n",
    "    figI.tight_layout()\n",
    "    figI.savefig('./MES_irLog.png')\n",
    "main()"
   ]
  },
  {
   "cell_type": "code",
   "execution_count": null,
   "metadata": {},
   "outputs": [],
   "source": []
  }
 ],
 "metadata": {
  "kernelspec": {
   "display_name": "study",
   "language": "python",
   "name": "study"
  },
  "language_info": {
   "codemirror_mode": {
    "name": "ipython",
    "version": 3
   },
   "file_extension": ".py",
   "mimetype": "text/x-python",
   "name": "python",
   "nbconvert_exporter": "python",
   "pygments_lexer": "ipython3",
   "version": "3.8.5"
  }
 },
 "nbformat": 4,
 "nbformat_minor": 4
}
